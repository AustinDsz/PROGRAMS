{
 "cells": [
  {
   "cell_type": "code",
   "execution_count": null,
   "metadata": {},
   "outputs": [],
   "source": [
    "import pandas as pd\n",
    "df_tennis=pd.read_csv('program-4/4.csv')\n",
    "print(\"\\n Given play Tennis Data Set:\\n\\n\",df_tennis)\n"
   ]
  },
  {
   "cell_type": "code",
   "execution_count": null,
   "metadata": {},
   "outputs": [],
   "source": [
    "def entropy(probs):\n",
    "    import math\n",
    "    return sum([-prob*math.log(prob,2) for prob in probs])\n"
   ]
  },
  {
   "cell_type": "code",
   "execution_count": null,
   "metadata": {},
   "outputs": [],
   "source": [
    "def entropy_of_list(a_list):\n",
    "    from collections import Counter\n",
    "    cnt = Counter(x for x in a_list)\n",
    "    num_instances=len(a_list)*1.0\n",
    "    probs=[x/num_instances for x in cnt.values()]\n",
    "    return entropy(probs)"
   ]
  },
  {
   "cell_type": "code",
   "execution_count": null,
   "metadata": {},
   "outputs": [],
   "source": [
    "def information_gain(df,split_attribute_name,target_atributes_name,trace=0):\n",
    "    df_split = df.groupby(split_attribute_name)\n",
    "    nobs=len(df.index)*1.0\n",
    "    df_agg_ent=df_split.agg({target_atributes_name:[entropy_of_list,lambda x:len(x)/nobs]})[target_atributes_name]\n",
    "    df_agg_ent.columns=['Entropy','Propobservations']\n",
    "    new_entropy = sum(df_agg_ent['Entropy']*df_agg_ent['Propobservations'])\n",
    "    old_entropy = entropy_of_list(df[target_atributes_name])\n",
    "    return old_entropy-new_entropy"
   ]
  },
  {
   "cell_type": "code",
   "execution_count": null,
   "metadata": {},
   "outputs": [],
   "source": [
    "def id3(df,target_atribute_name,atribute_names,default_class=None):\n",
    "    from collections import Counter\n",
    "    cnt = Counter(x for x in df[target_atribute_name])\n",
    "    print(cnt)\n",
    "    if len(cnt) ==1:\n",
    "        print(len(cnt))\n",
    "        return next(iter(cnt))\n",
    "    elif df.empty or (not atribute_names):\n",
    "        return default_class\n",
    "    else:\n",
    "        default_class=max(cnt.keys())\n",
    "        gainz=[information_gain(df,attr,target_atribute_name) for attr in atribute_names]\n",
    "        print(\"Gain =\",gainz)\n",
    "        index_of_max = gainz.index(max(gainz))\n",
    "        best_attr=atribute_names[index_of_max]\n",
    "        print(\"Best Attribute \",best_attr)\n",
    "        tree = {best_attr:{}}\n",
    "        remaining_attribute_names=[i for i in atribute_names if i!=best_attr]\n",
    "        for  attr_val ,data_subset in df.groupby(best_attr):\n",
    "            subtree=id3(data_subset,target_atribute_name,remaining_attribute_names,default_class)\n",
    "            tree[best_attr][attr_val]=subtree\n",
    "        return tree"
   ]
  },
  {
   "cell_type": "code",
   "execution_count": null,
   "metadata": {},
   "outputs": [],
   "source": [
    "atribute_names=list(df_tennis.columns)\n",
    "print(\"List of atributes:\",atribute_names)\n",
    "atribute_names.remove('PlayTennis')\n",
    "print(\"Predicting Attributes :\",atribute_names)"
   ]
  },
  {
   "cell_type": "code",
   "execution_count": null,
   "metadata": {},
   "outputs": [],
   "source": [
    "from pprint import pprint\n",
    "tree=id3(df_tennis,'PlayTennis',atribute_names)\n",
    "print(\"\\n\\n The Resultant Decision Tree is : \\n\")\n",
    "pprint(tree)"
   ]
  },
  {
   "cell_type": "code",
   "execution_count": null,
   "metadata": {},
   "outputs": [],
   "source": [
    "test_data = pd.read_csv('program-4/4_test.csv')\n",
    "test_data['predicted2']=test_data.apply(classify,axis=1,args=(tree,''))\n",
    "print(test_data[['predicted2']])"
   ]
  }
 ],
 "metadata": {
  "kernelspec": {
   "display_name": "Python 3.10.11 64-bit",
   "language": "python",
   "name": "python3"
  },
  "language_info": {
   "name": "python",
   "version": "3.10.11"
  },
  "orig_nbformat": 4,
  "vscode": {
   "interpreter": {
    "hash": "e7370f93d1d0cde622a1f8e1c04877d8463912d04d973331ad4851f04de6915a"
   }
  }
 },
 "nbformat": 4,
 "nbformat_minor": 2
}
