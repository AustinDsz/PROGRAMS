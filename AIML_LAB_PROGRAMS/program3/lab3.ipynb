{
 "cells": [
  {
   "cell_type": "code",
   "execution_count": null,
   "metadata": {},
   "outputs": [],
   "source": [
    "dataarr=[]\n",
    "with open ('3.csv')as f:\n",
    "    for line in f:\n",
    "        dataarr.append(line.strip().split(','))"
   ]
  },
  {
   "cell_type": "code",
   "execution_count": null,
   "metadata": {},
   "outputs": [],
   "source": [
    "rows=len(dataarr)\n",
    "cols=len(dataarr[0])\n",
    "shypo=['0']*(cols-1)\n",
    "ghypo=[['?']*(cols-1)]\n",
    "print(\"initial specific hypothesis is=\",shypo)\n",
    "print(\"initial general hypothesis is=\",ghypo)"
   ]
  },
  {
   "cell_type": "code",
   "execution_count": null,
   "metadata": {},
   "outputs": [],
   "source": [
    "for x in range(1,rows):\n",
    "    lst =dataarr[x]\n",
    "    if lst[cols-1]==\"1\":\n",
    "        for i in range(0,cols-1):\n",
    "            if shypo[i]==lst[i]:\n",
    "                continue\n",
    "            shypo[i]='?' if shypo[i] !='0' else lst[i]\n",
    "            for g in ghypo:\n",
    "                if g[i]!='?' and shypo[i]=='?':\n",
    "                    ghypo.remove(g)\n",
    "    elif lst[cols-1]==\"0\":\n",
    "        ghypo.clear()\n",
    "        for i in range(0,cols-1):\n",
    "            if lst[i]!=shypo[i] and shypo[i]!='?':\n",
    "                temp_list=['?']*i+[shypo[i]]+(['?']*(cols-2-i))\n",
    "                if temp_list not in ghypo:\n",
    "                    ghypo.append(temp_list)\n",
    "\n",
    "    print(\"S hypothesis after row\",x,\"=\",shypo)\n",
    "    print(\"G hypothesis after row\",x,\"=\",ghypo)\n",
    "print(\"final Shypothesis\",shypo)\n",
    "print(\"final Ghypothesis\",ghypo)\n"
   ]
  }
 ],
 "metadata": {
  "language_info": {
   "name": "python"
  },
  "orig_nbformat": 4
 },
 "nbformat": 4,
 "nbformat_minor": 2
}
